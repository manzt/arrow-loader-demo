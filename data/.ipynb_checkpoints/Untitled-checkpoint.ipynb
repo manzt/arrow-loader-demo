{
 "cells": [
  {
   "cell_type": "code",
   "execution_count": 56,
   "metadata": {},
   "outputs": [],
   "source": [
    "import pandas as pd\n",
    "import numpy as np\n",
    "import pyarrow as pa\n",
    "import requests\n",
    "\n",
    "DATASET = \"linnarsson\"\n",
    "SCHEMA = \"molecules\"\n",
    "JSON_DATA_URL = f\"https://s3.amazonaws.com/vitessce-data/0.0.18/reorganize_folders/{DATASET}/{DATASET}.{SCHEMA}.json\"\n",
    "\n",
    "def flatten(key, values):\n",
    "    df = pd.DataFrame(values, columns=list(\"xy\"))\n",
    "    df[\"names\"] = np.repeat(key, len(values))\n",
    "    return df\n",
    "\n",
    "if __name__ == \"__main__\":\n",
    "    print(\"fetching json ...\")\n",
    "    res = requests.get(JSON_DATA_URL)\n",
    "    print(\"converting to pandas DataFrame\")\n",
    "    molecules = pd.concat(flatten(key, values) for key, values in res.json().items()).astype({\n",
    "        'x': 'int32',\n",
    "        'y': 'int32',\n",
    "        'names': 'category'\n",
    "    })\n",
    "    print(\"converting to arrow table and writing to disk.\")\n",
    "    table = pa.Table.from_pandas(molecules)\n",
    "    writer = pa.RecordBatchFileWriter('linnarsson.molecules.arrow', table.schema)\n",
    "    writer.write(table)\n",
    "    writer.close()\n",
    "    print(\"done\")"
   ]
  },
  {
   "cell_type": "code",
   "execution_count": null,
   "metadata": {},
   "outputs": [],
   "source": []
  }
 ],
 "metadata": {
  "kernelspec": {
   "display_name": "Python 3",
   "language": "python",
   "name": "python3"
  },
  "language_info": {
   "codemirror_mode": {
    "name": "ipython",
    "version": 3
   },
   "file_extension": ".py",
   "mimetype": "text/x-python",
   "name": "python",
   "nbconvert_exporter": "python",
   "pygments_lexer": "ipython3",
   "version": "3.8.0"
  }
 },
 "nbformat": 4,
 "nbformat_minor": 4
}
